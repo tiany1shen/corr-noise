{
 "cells": [
  {
   "cell_type": "markdown",
   "metadata": {},
   "source": [
    "标准 setting:\n",
    "- 模型：EDGE (CVPR23)\n",
    "- 训练策略：与论文一致，使用 librosa 抽取的音频特征，2000 epoch\n",
    "- 评价指标：\n",
    "    - Fid_k：kinetic 特征的 fid 分数，涉及每个 keyjoint 的速度和加速度\n",
    "    - Fid_g: geometric 特征的 fid 分数，涉及 keyjoint 之间的相对角度和相对移动等手工特征\n",
    "    - Dist_k: 样本 kinetic 特征的平均欧式距离，也叫 Div_k\n",
    "    - Dist_g: 样本 geometric 特征的平均欧氏距离，也叫 Div_g \n",
    "    - BAS: Beat-alignment score\n",
    "\n",
    "对比实验 1：\n",
    "- a: 标准训练 setting + rotation 6d 数据（dim=151）\n",
    "- b: 训练和生产是使用的是经过 data-relative 映射转化成具有相关性的 noise，其余与 a 一致\n",
    "\n",
    "量化结果：\n",
    "|    | Fid_k $\\downarrow$ | Fid_g $\\downarrow$ | Dist_k $\\uparrow$ | Dist_g $\\uparrow$ | BAS $\\uparrow$ |\n",
    "| -- | --    | --    | --     | --     | --   |\n",
    "| a  | 37.24 | 17.70 | 7.05   | 5.39   | 0.24 |\n",
    "| b  | 28.06 | 15.25 | 7.82   | 5.09   | 0.23 |\n",
    "\n",
    "对比实验 2：\n",
    "- c: 标准训练 setting + joint 3d 数据 （dim=79） \n",
    "- d: 训练和生产是使用的是经过 data-relative 映射转化成具有相关性的 noise，其余与 c 一致\n",
    "\n",
    "量化结果：\n",
    "|    | Fid_k $\\downarrow$ | Fid_g $\\downarrow$ | Dist_k $\\uparrow$ | Dist_g $\\uparrow$ | BAS $\\uparrow$ |\n",
    "| -- | --    | --    | --   | --   | --   |\n",
    "| c  | 26.17 | 15.67 | 7.16 | 6.14 | 0.24 |\n",
    "| d  | 33.67 | 17.59 | 7.73 | 4.55 | 0.24 |\n",
    "\n"
   ]
  }
 ],
 "metadata": {
  "language_info": {
   "name": "python"
  }
 },
 "nbformat": 4,
 "nbformat_minor": 2
}
